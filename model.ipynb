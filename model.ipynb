{
 "cells": [
  {
   "cell_type": "code",
   "execution_count": 66,
   "metadata": {},
   "outputs": [],
   "source": [
    "import pandas as pd\n",
    "from sklearn import preprocessing\n",
    "from sklearn.model_selection import train_test_split\n",
    "from sklearn.linear_model import LinearRegression\n",
    "from sklearn import metrics\n",
    "import numpy as np\n",
    "import pickle \n",
    "import sqlite3"
   ]
  },
  {
   "cell_type": "code",
   "execution_count": 67,
   "metadata": {},
   "outputs": [],
   "source": [
    "def create_connection(db_file, delete_db=False):\n",
    "    import os\n",
    "    if delete_db and os.path.exists(db_file):\n",
    "        os.remove(db_file)\n",
    "\n",
    "    conn = None\n",
    "    try:\n",
    "        conn = sqlite3.connect(db_file)\n",
    "        conn.execute(\"PRAGMA foreign_keys = 1\")\n",
    "    except Error as e:\n",
    "        print(e)\n",
    "\n",
    "    return conn\n",
    "\n",
    "conn = create_connection('database/USRent.db')\n",
    "sql_statement = \"select * from HousingList;\"\n",
    "data = pd.read_sql_query(sql_statement, conn)"
   ]
  },
  {
   "cell_type": "code",
   "execution_count": 63,
   "metadata": {},
   "outputs": [],
   "source": [
    "df = data.copy(deep=True)"
   ]
  },
  {
   "cell_type": "code",
   "execution_count": 64,
   "metadata": {},
   "outputs": [
    {
     "ename": "KeyError",
     "evalue": "\"['description'] not found in axis\"",
     "output_type": "error",
     "traceback": [
      "\u001b[1;31m---------------------------------------------------------------------------\u001b[0m",
      "\u001b[1;31mKeyError\u001b[0m                                  Traceback (most recent call last)",
      "\u001b[1;32m<ipython-input-64-248f05cf15b2>\u001b[0m in \u001b[0;36m<module>\u001b[1;34m\u001b[0m\n\u001b[1;32m----> 1\u001b[1;33m \u001b[0mdf\u001b[0m\u001b[1;33m.\u001b[0m\u001b[0mdrop\u001b[0m\u001b[1;33m(\u001b[0m\u001b[1;33m[\u001b[0m\u001b[1;34m\"url\"\u001b[0m\u001b[1;33m,\u001b[0m\u001b[1;34m\"region_url\"\u001b[0m\u001b[1;33m,\u001b[0m\u001b[1;34m\"image_url\"\u001b[0m\u001b[1;33m,\u001b[0m\u001b[1;34m\"description\"\u001b[0m\u001b[1;33m,\u001b[0m\u001b[1;34m\"id\"\u001b[0m\u001b[1;33m,\u001b[0m\u001b[1;34m\"region\"\u001b[0m\u001b[1;33m]\u001b[0m\u001b[1;33m,\u001b[0m \u001b[0maxis\u001b[0m \u001b[1;33m=\u001b[0m \u001b[1;36m1\u001b[0m\u001b[1;33m,\u001b[0m \u001b[0minplace\u001b[0m\u001b[1;33m=\u001b[0m\u001b[1;32mTrue\u001b[0m\u001b[1;33m)\u001b[0m\u001b[1;33m\u001b[0m\u001b[1;33m\u001b[0m\u001b[0m\n\u001b[0m\u001b[0;32m      2\u001b[0m \u001b[0mdisplay\u001b[0m\u001b[1;33m(\u001b[0m\u001b[0mdf\u001b[0m\u001b[1;33m)\u001b[0m\u001b[1;33m\u001b[0m\u001b[1;33m\u001b[0m\u001b[0m\n",
      "\u001b[1;32m~\\anaconda3\\lib\\site-packages\\pandas\\core\\frame.py\u001b[0m in \u001b[0;36mdrop\u001b[1;34m(self, labels, axis, index, columns, level, inplace, errors)\u001b[0m\n\u001b[0;32m   4306\u001b[0m                 \u001b[0mweight\u001b[0m  \u001b[1;36m1.0\u001b[0m     \u001b[1;36m0.8\u001b[0m\u001b[1;33m\u001b[0m\u001b[1;33m\u001b[0m\u001b[0m\n\u001b[0;32m   4307\u001b[0m         \"\"\"\n\u001b[1;32m-> 4308\u001b[1;33m         return super().drop(\n\u001b[0m\u001b[0;32m   4309\u001b[0m             \u001b[0mlabels\u001b[0m\u001b[1;33m=\u001b[0m\u001b[0mlabels\u001b[0m\u001b[1;33m,\u001b[0m\u001b[1;33m\u001b[0m\u001b[1;33m\u001b[0m\u001b[0m\n\u001b[0;32m   4310\u001b[0m             \u001b[0maxis\u001b[0m\u001b[1;33m=\u001b[0m\u001b[0maxis\u001b[0m\u001b[1;33m,\u001b[0m\u001b[1;33m\u001b[0m\u001b[1;33m\u001b[0m\u001b[0m\n",
      "\u001b[1;32m~\\anaconda3\\lib\\site-packages\\pandas\\core\\generic.py\u001b[0m in \u001b[0;36mdrop\u001b[1;34m(self, labels, axis, index, columns, level, inplace, errors)\u001b[0m\n\u001b[0;32m   4151\u001b[0m         \u001b[1;32mfor\u001b[0m \u001b[0maxis\u001b[0m\u001b[1;33m,\u001b[0m \u001b[0mlabels\u001b[0m \u001b[1;32min\u001b[0m \u001b[0maxes\u001b[0m\u001b[1;33m.\u001b[0m\u001b[0mitems\u001b[0m\u001b[1;33m(\u001b[0m\u001b[1;33m)\u001b[0m\u001b[1;33m:\u001b[0m\u001b[1;33m\u001b[0m\u001b[1;33m\u001b[0m\u001b[0m\n\u001b[0;32m   4152\u001b[0m             \u001b[1;32mif\u001b[0m \u001b[0mlabels\u001b[0m \u001b[1;32mis\u001b[0m \u001b[1;32mnot\u001b[0m \u001b[1;32mNone\u001b[0m\u001b[1;33m:\u001b[0m\u001b[1;33m\u001b[0m\u001b[1;33m\u001b[0m\u001b[0m\n\u001b[1;32m-> 4153\u001b[1;33m                 \u001b[0mobj\u001b[0m \u001b[1;33m=\u001b[0m \u001b[0mobj\u001b[0m\u001b[1;33m.\u001b[0m\u001b[0m_drop_axis\u001b[0m\u001b[1;33m(\u001b[0m\u001b[0mlabels\u001b[0m\u001b[1;33m,\u001b[0m \u001b[0maxis\u001b[0m\u001b[1;33m,\u001b[0m \u001b[0mlevel\u001b[0m\u001b[1;33m=\u001b[0m\u001b[0mlevel\u001b[0m\u001b[1;33m,\u001b[0m \u001b[0merrors\u001b[0m\u001b[1;33m=\u001b[0m\u001b[0merrors\u001b[0m\u001b[1;33m)\u001b[0m\u001b[1;33m\u001b[0m\u001b[1;33m\u001b[0m\u001b[0m\n\u001b[0m\u001b[0;32m   4154\u001b[0m \u001b[1;33m\u001b[0m\u001b[0m\n\u001b[0;32m   4155\u001b[0m         \u001b[1;32mif\u001b[0m \u001b[0minplace\u001b[0m\u001b[1;33m:\u001b[0m\u001b[1;33m\u001b[0m\u001b[1;33m\u001b[0m\u001b[0m\n",
      "\u001b[1;32m~\\anaconda3\\lib\\site-packages\\pandas\\core\\generic.py\u001b[0m in \u001b[0;36m_drop_axis\u001b[1;34m(self, labels, axis, level, errors)\u001b[0m\n\u001b[0;32m   4186\u001b[0m                 \u001b[0mnew_axis\u001b[0m \u001b[1;33m=\u001b[0m \u001b[0maxis\u001b[0m\u001b[1;33m.\u001b[0m\u001b[0mdrop\u001b[0m\u001b[1;33m(\u001b[0m\u001b[0mlabels\u001b[0m\u001b[1;33m,\u001b[0m \u001b[0mlevel\u001b[0m\u001b[1;33m=\u001b[0m\u001b[0mlevel\u001b[0m\u001b[1;33m,\u001b[0m \u001b[0merrors\u001b[0m\u001b[1;33m=\u001b[0m\u001b[0merrors\u001b[0m\u001b[1;33m)\u001b[0m\u001b[1;33m\u001b[0m\u001b[1;33m\u001b[0m\u001b[0m\n\u001b[0;32m   4187\u001b[0m             \u001b[1;32melse\u001b[0m\u001b[1;33m:\u001b[0m\u001b[1;33m\u001b[0m\u001b[1;33m\u001b[0m\u001b[0m\n\u001b[1;32m-> 4188\u001b[1;33m                 \u001b[0mnew_axis\u001b[0m \u001b[1;33m=\u001b[0m \u001b[0maxis\u001b[0m\u001b[1;33m.\u001b[0m\u001b[0mdrop\u001b[0m\u001b[1;33m(\u001b[0m\u001b[0mlabels\u001b[0m\u001b[1;33m,\u001b[0m \u001b[0merrors\u001b[0m\u001b[1;33m=\u001b[0m\u001b[0merrors\u001b[0m\u001b[1;33m)\u001b[0m\u001b[1;33m\u001b[0m\u001b[1;33m\u001b[0m\u001b[0m\n\u001b[0m\u001b[0;32m   4189\u001b[0m             \u001b[0mresult\u001b[0m \u001b[1;33m=\u001b[0m \u001b[0mself\u001b[0m\u001b[1;33m.\u001b[0m\u001b[0mreindex\u001b[0m\u001b[1;33m(\u001b[0m\u001b[1;33m**\u001b[0m\u001b[1;33m{\u001b[0m\u001b[0maxis_name\u001b[0m\u001b[1;33m:\u001b[0m \u001b[0mnew_axis\u001b[0m\u001b[1;33m}\u001b[0m\u001b[1;33m)\u001b[0m\u001b[1;33m\u001b[0m\u001b[1;33m\u001b[0m\u001b[0m\n\u001b[0;32m   4190\u001b[0m \u001b[1;33m\u001b[0m\u001b[0m\n",
      "\u001b[1;32m~\\anaconda3\\lib\\site-packages\\pandas\\core\\indexes\\base.py\u001b[0m in \u001b[0;36mdrop\u001b[1;34m(self, labels, errors)\u001b[0m\n\u001b[0;32m   5589\u001b[0m         \u001b[1;32mif\u001b[0m \u001b[0mmask\u001b[0m\u001b[1;33m.\u001b[0m\u001b[0many\u001b[0m\u001b[1;33m(\u001b[0m\u001b[1;33m)\u001b[0m\u001b[1;33m:\u001b[0m\u001b[1;33m\u001b[0m\u001b[1;33m\u001b[0m\u001b[0m\n\u001b[0;32m   5590\u001b[0m             \u001b[1;32mif\u001b[0m \u001b[0merrors\u001b[0m \u001b[1;33m!=\u001b[0m \u001b[1;34m\"ignore\"\u001b[0m\u001b[1;33m:\u001b[0m\u001b[1;33m\u001b[0m\u001b[1;33m\u001b[0m\u001b[0m\n\u001b[1;32m-> 5591\u001b[1;33m                 \u001b[1;32mraise\u001b[0m \u001b[0mKeyError\u001b[0m\u001b[1;33m(\u001b[0m\u001b[1;34mf\"{labels[mask]} not found in axis\"\u001b[0m\u001b[1;33m)\u001b[0m\u001b[1;33m\u001b[0m\u001b[1;33m\u001b[0m\u001b[0m\n\u001b[0m\u001b[0;32m   5592\u001b[0m             \u001b[0mindexer\u001b[0m \u001b[1;33m=\u001b[0m \u001b[0mindexer\u001b[0m\u001b[1;33m[\u001b[0m\u001b[1;33m~\u001b[0m\u001b[0mmask\u001b[0m\u001b[1;33m]\u001b[0m\u001b[1;33m\u001b[0m\u001b[1;33m\u001b[0m\u001b[0m\n\u001b[0;32m   5593\u001b[0m         \u001b[1;32mreturn\u001b[0m \u001b[0mself\u001b[0m\u001b[1;33m.\u001b[0m\u001b[0mdelete\u001b[0m\u001b[1;33m(\u001b[0m\u001b[0mindexer\u001b[0m\u001b[1;33m)\u001b[0m\u001b[1;33m\u001b[0m\u001b[1;33m\u001b[0m\u001b[0m\n",
      "\u001b[1;31mKeyError\u001b[0m: \"['description'] not found in axis\""
     ]
    }
   ],
   "source": [
    "df.drop([\"url\",\"region_url\",\"image_url\",\"description\",\"id\",\"region\"], axis = 1, inplace=True)\n",
    "display(df)"
   ]
  },
  {
   "cell_type": "code",
   "execution_count": 32,
   "metadata": {},
   "outputs": [
    {
     "data": {
      "text/plain": [
       "price                      0\n",
       "type                       0\n",
       "sqfeet                     0\n",
       "beds                       0\n",
       "baths                      0\n",
       "cats_allowed               0\n",
       "dogs_allowed               0\n",
       "smoking_allowed            0\n",
       "wheelchair_access          0\n",
       "electric_vehicle_charge    0\n",
       "comes_furnished            0\n",
       "laundry_options            0\n",
       "parking_options            0\n",
       "lat                        0\n",
       "long                       0\n",
       "state                      0\n",
       "dtype: int64"
      ]
     },
     "execution_count": 32,
     "metadata": {},
     "output_type": "execute_result"
    }
   ],
   "source": [
    "df.isnull().sum()\n",
    "df[\"laundry_options\"]=df[\"laundry_options\"].fillna(df[\"laundry_options\"].mode()[0])\n",
    "df[\"parking_options\"]=df[\"parking_options\"].fillna(df[\"parking_options\"].mode()[0])\n",
    "df.fillna(0, inplace=True)\n",
    "df.isnull().sum()"
   ]
  },
  {
   "cell_type": "code",
   "execution_count": 33,
   "metadata": {},
   "outputs": [],
   "source": [
    "df=df[df[\"price\"]>100]\n",
    "df=df[df[\"sqfeet\"]>=120]\n",
    "df=df[df[\"price\"]<5000]"
   ]
  },
  {
   "cell_type": "code",
   "execution_count": 34,
   "metadata": {},
   "outputs": [
    {
     "name": "stdout",
     "output_type": "stream",
     "text": [
      "   price  type  sqfeet  beds  baths  cats_allowed  dogs_allowed  \\\n",
      "0   1148     0    1078     3    2.0             1             1   \n",
      "1   1200     2    1001     2    2.0             0             0   \n",
      "2   1813     0    1683     2    2.0             1             1   \n",
      "3   1095     0     708     1    1.0             1             1   \n",
      "4    289     0     250     0    1.0             1             1   \n",
      "\n",
      "   smoking_allowed  wheelchair_access  electric_vehicle_charge  \\\n",
      "0                0                  0                        0   \n",
      "1                0                  0                        0   \n",
      "2                1                  0                        0   \n",
      "3                1                  0                        0   \n",
      "4                1                  1                        0   \n",
      "\n",
      "   comes_furnished  laundry_options  parking_options      lat     long  state  \n",
      "0                0                4                1  39.5483 -119.796      4  \n",
      "1                0                3                1  39.5026 -119.789      4  \n",
      "2                0                4                0  39.6269 -119.708      4  \n",
      "3                0                4                1  39.4477 -119.771      4  \n",
      "4                1                1                4  39.5357 -119.805      4  \n"
     ]
    }
   ],
   "source": [
    "label_encoder = preprocessing.LabelEncoder()\n",
    "categorical_cols = [\"type\",\"laundry_options\",\"parking_options\",\"state\"]\n",
    "for col_name in categorical_cols:\n",
    "    df[col_name] = label_encoder.fit_transform(df[col_name])\n",
    "\n",
    "print(df.head())"
   ]
  },
  {
   "cell_type": "code",
   "execution_count": 35,
   "metadata": {},
   "outputs": [],
   "source": [
    "X = df.drop('price', axis=1)\n",
    "y = df[\"price\"]\n",
    "X_train, X_test, y_train, y_test = train_test_split(X, y, test_size = 0.2, random_state = 0)"
   ]
  },
  {
   "cell_type": "code",
   "execution_count": 53,
   "metadata": {},
   "outputs": [
    {
     "name": "stdout",
     "output_type": "stream",
     "text": [
      "0.21168422744907855 236907.4988691645 486.73144429876777\n"
     ]
    }
   ],
   "source": [
    "linear = LinearRegression()\n",
    "linear.fit(X_train, y_train)\n",
    "y_pred=linear.predict(X_test)\n",
    "lr_r2=metrics.r2_score(y_test, y_pred)\n",
    "lr_MSE=metrics.mean_squared_error(y_test, y_pred)\n",
    "lr_RMSE=np.sqrt(metrics.mean_squared_error(y_test, y_pred))\n",
    "print(lr_r2, lr_MSE, lr_RMSE)"
   ]
  },
  {
   "cell_type": "code",
   "execution_count": 54,
   "metadata": {},
   "outputs": [
    {
     "data": {
      "text/html": [
       "<div>\n",
       "<style scoped>\n",
       "    .dataframe tbody tr th:only-of-type {\n",
       "        vertical-align: middle;\n",
       "    }\n",
       "\n",
       "    .dataframe tbody tr th {\n",
       "        vertical-align: top;\n",
       "    }\n",
       "\n",
       "    .dataframe thead th {\n",
       "        text-align: right;\n",
       "    }\n",
       "</style>\n",
       "<table border=\"1\" class=\"dataframe\">\n",
       "  <thead>\n",
       "    <tr style=\"text-align: right;\">\n",
       "      <th></th>\n",
       "      <th>True Values</th>\n",
       "      <th>Predicted Values</th>\n",
       "    </tr>\n",
       "  </thead>\n",
       "  <tbody>\n",
       "    <tr>\n",
       "      <th>263535</th>\n",
       "      <td>1100</td>\n",
       "      <td>930.862866</td>\n",
       "    </tr>\n",
       "    <tr>\n",
       "      <th>265585</th>\n",
       "      <td>899</td>\n",
       "      <td>1055.103572</td>\n",
       "    </tr>\n",
       "    <tr>\n",
       "      <th>198423</th>\n",
       "      <td>1331</td>\n",
       "      <td>1476.831192</td>\n",
       "    </tr>\n",
       "    <tr>\n",
       "      <th>144076</th>\n",
       "      <td>1875</td>\n",
       "      <td>1112.798307</td>\n",
       "    </tr>\n",
       "    <tr>\n",
       "      <th>366990</th>\n",
       "      <td>710</td>\n",
       "      <td>1343.834526</td>\n",
       "    </tr>\n",
       "    <tr>\n",
       "      <th>...</th>\n",
       "      <td>...</td>\n",
       "      <td>...</td>\n",
       "    </tr>\n",
       "    <tr>\n",
       "      <th>199412</th>\n",
       "      <td>1400</td>\n",
       "      <td>1205.370019</td>\n",
       "    </tr>\n",
       "    <tr>\n",
       "      <th>1354</th>\n",
       "      <td>1845</td>\n",
       "      <td>1676.309956</td>\n",
       "    </tr>\n",
       "    <tr>\n",
       "      <th>354870</th>\n",
       "      <td>1000</td>\n",
       "      <td>1200.834629</td>\n",
       "    </tr>\n",
       "    <tr>\n",
       "      <th>237088</th>\n",
       "      <td>525</td>\n",
       "      <td>1046.165738</td>\n",
       "    </tr>\n",
       "    <tr>\n",
       "      <th>96095</th>\n",
       "      <td>795</td>\n",
       "      <td>1261.589871</td>\n",
       "    </tr>\n",
       "  </tbody>\n",
       "</table>\n",
       "<p>76149 rows × 2 columns</p>\n",
       "</div>"
      ],
      "text/plain": [
       "        True Values  Predicted Values\n",
       "263535         1100        930.862866\n",
       "265585          899       1055.103572\n",
       "198423         1331       1476.831192\n",
       "144076         1875       1112.798307\n",
       "366990          710       1343.834526\n",
       "...             ...               ...\n",
       "199412         1400       1205.370019\n",
       "1354           1845       1676.309956\n",
       "354870         1000       1200.834629\n",
       "237088          525       1046.165738\n",
       "96095           795       1261.589871\n",
       "\n",
       "[76149 rows x 2 columns]"
      ]
     },
     "execution_count": 54,
     "metadata": {},
     "output_type": "execute_result"
    }
   ],
   "source": [
    "pred_graph_lr=pd.DataFrame({\"True Values\":y_test, \"Predicted Values\":y_pred})\n",
    "pred_graph_lr"
   ]
  },
  {
   "cell_type": "code",
   "execution_count": 55,
   "metadata": {},
   "outputs": [
    {
     "name": "stdout",
     "output_type": "stream",
     "text": [
      "0.21168419348016 236907.50907762643 486.73145478551766\n"
     ]
    }
   ],
   "source": [
    "from sklearn.linear_model import Ridge\n",
    "\n",
    "Ridge = Ridge(alpha=0.5)\n",
    "Ridge.fit(X_train, y_train)\n",
    "y_pred=Ridge.predict(X_test)\n",
    "lr_r2=metrics.r2_score(y_test, y_pred)\n",
    "lr_MSE=metrics.mean_squared_error(y_test, y_pred)\n",
    "lr_RMSE=np.sqrt(metrics.mean_squared_error(y_test, y_pred))\n",
    "print(lr_r2, lr_MSE, lr_RMSE)"
   ]
  },
  {
   "cell_type": "code",
   "execution_count": 56,
   "metadata": {},
   "outputs": [
    {
     "data": {
      "text/html": [
       "<div>\n",
       "<style scoped>\n",
       "    .dataframe tbody tr th:only-of-type {\n",
       "        vertical-align: middle;\n",
       "    }\n",
       "\n",
       "    .dataframe tbody tr th {\n",
       "        vertical-align: top;\n",
       "    }\n",
       "\n",
       "    .dataframe thead th {\n",
       "        text-align: right;\n",
       "    }\n",
       "</style>\n",
       "<table border=\"1\" class=\"dataframe\">\n",
       "  <thead>\n",
       "    <tr style=\"text-align: right;\">\n",
       "      <th></th>\n",
       "      <th>True Values</th>\n",
       "      <th>Predicted Values</th>\n",
       "    </tr>\n",
       "  </thead>\n",
       "  <tbody>\n",
       "    <tr>\n",
       "      <th>263535</th>\n",
       "      <td>1100</td>\n",
       "      <td>930.863826</td>\n",
       "    </tr>\n",
       "    <tr>\n",
       "      <th>265585</th>\n",
       "      <td>899</td>\n",
       "      <td>1055.103040</td>\n",
       "    </tr>\n",
       "    <tr>\n",
       "      <th>198423</th>\n",
       "      <td>1331</td>\n",
       "      <td>1476.832241</td>\n",
       "    </tr>\n",
       "    <tr>\n",
       "      <th>144076</th>\n",
       "      <td>1875</td>\n",
       "      <td>1112.798999</td>\n",
       "    </tr>\n",
       "    <tr>\n",
       "      <th>366990</th>\n",
       "      <td>710</td>\n",
       "      <td>1343.834601</td>\n",
       "    </tr>\n",
       "    <tr>\n",
       "      <th>...</th>\n",
       "      <td>...</td>\n",
       "      <td>...</td>\n",
       "    </tr>\n",
       "    <tr>\n",
       "      <th>199412</th>\n",
       "      <td>1400</td>\n",
       "      <td>1205.364437</td>\n",
       "    </tr>\n",
       "    <tr>\n",
       "      <th>1354</th>\n",
       "      <td>1845</td>\n",
       "      <td>1676.310783</td>\n",
       "    </tr>\n",
       "    <tr>\n",
       "      <th>354870</th>\n",
       "      <td>1000</td>\n",
       "      <td>1200.834257</td>\n",
       "    </tr>\n",
       "    <tr>\n",
       "      <th>237088</th>\n",
       "      <td>525</td>\n",
       "      <td>1046.166229</td>\n",
       "    </tr>\n",
       "    <tr>\n",
       "      <th>96095</th>\n",
       "      <td>795</td>\n",
       "      <td>1261.589701</td>\n",
       "    </tr>\n",
       "  </tbody>\n",
       "</table>\n",
       "<p>76149 rows × 2 columns</p>\n",
       "</div>"
      ],
      "text/plain": [
       "        True Values  Predicted Values\n",
       "263535         1100        930.863826\n",
       "265585          899       1055.103040\n",
       "198423         1331       1476.832241\n",
       "144076         1875       1112.798999\n",
       "366990          710       1343.834601\n",
       "...             ...               ...\n",
       "199412         1400       1205.364437\n",
       "1354           1845       1676.310783\n",
       "354870         1000       1200.834257\n",
       "237088          525       1046.166229\n",
       "96095           795       1261.589701\n",
       "\n",
       "[76149 rows x 2 columns]"
      ]
     },
     "execution_count": 56,
     "metadata": {},
     "output_type": "execute_result"
    }
   ],
   "source": [
    "pred_graph_lr=pd.DataFrame({\"True Values\":y_test, \"Predicted Values\":y_pred})\n",
    "pred_graph_lr"
   ]
  },
  {
   "cell_type": "code",
   "execution_count": 57,
   "metadata": {},
   "outputs": [
    {
     "name": "stdout",
     "output_type": "stream",
     "text": [
      "0.7923590328536186 62401.01226218458 249.80194607365368\n"
     ]
    }
   ],
   "source": [
    "from sklearn import tree\n",
    "\n",
    "clf = tree.DecisionTreeRegressor()\n",
    "clf.fit(X_train, y_train)\n",
    "y_pred = clf.predict(X_test)\n",
    "lr_r2 = metrics.r2_score(y_test, y_pred)\n",
    "lr_MSE = metrics.mean_squared_error(y_test, y_pred)\n",
    "lr_RMSE = np.sqrt(metrics.mean_squared_error(y_test, y_pred))\n",
    "print(lr_r2, lr_MSE, lr_RMSE)"
   ]
  },
  {
   "cell_type": "code",
   "execution_count": 58,
   "metadata": {},
   "outputs": [
    {
     "name": "stdout",
     "output_type": "stream",
     "text": [
      "0.4282692783151518 171818.5783125004 414.5100460935783\n"
     ]
    }
   ],
   "source": [
    "from sklearn.ensemble import GradientBoostingRegressor\n",
    "\n",
    "gbr = GradientBoostingRegressor(n_estimators=100, learning_rate=0.1, max_depth=1, random_state=0)\n",
    "gbr.fit(X_train, y_train)\n",
    "y_pred = gbr.predict(X_test)\n",
    "lr_r2 = metrics.r2_score(y_test, y_pred)\n",
    "lr_MSE = metrics.mean_squared_error(y_test, y_pred)\n",
    "lr_RMSE = np.sqrt(metrics.mean_squared_error(y_test, y_pred))\n",
    "print(lr_r2, lr_MSE, lr_RMSE)"
   ]
  },
  {
   "cell_type": "code",
   "execution_count": 59,
   "metadata": {},
   "outputs": [
    {
     "data": {
      "text/html": [
       "<div>\n",
       "<style scoped>\n",
       "    .dataframe tbody tr th:only-of-type {\n",
       "        vertical-align: middle;\n",
       "    }\n",
       "\n",
       "    .dataframe tbody tr th {\n",
       "        vertical-align: top;\n",
       "    }\n",
       "\n",
       "    .dataframe thead th {\n",
       "        text-align: right;\n",
       "    }\n",
       "</style>\n",
       "<table border=\"1\" class=\"dataframe\">\n",
       "  <thead>\n",
       "    <tr style=\"text-align: right;\">\n",
       "      <th></th>\n",
       "      <th>True Values</th>\n",
       "      <th>Predicted Values</th>\n",
       "    </tr>\n",
       "  </thead>\n",
       "  <tbody>\n",
       "    <tr>\n",
       "      <th>263535</th>\n",
       "      <td>1100</td>\n",
       "      <td>971.869413</td>\n",
       "    </tr>\n",
       "    <tr>\n",
       "      <th>265585</th>\n",
       "      <td>899</td>\n",
       "      <td>1070.503425</td>\n",
       "    </tr>\n",
       "    <tr>\n",
       "      <th>198423</th>\n",
       "      <td>1331</td>\n",
       "      <td>1506.540847</td>\n",
       "    </tr>\n",
       "    <tr>\n",
       "      <th>144076</th>\n",
       "      <td>1875</td>\n",
       "      <td>1532.056863</td>\n",
       "    </tr>\n",
       "    <tr>\n",
       "      <th>366990</th>\n",
       "      <td>710</td>\n",
       "      <td>1026.783324</td>\n",
       "    </tr>\n",
       "    <tr>\n",
       "      <th>...</th>\n",
       "      <td>...</td>\n",
       "      <td>...</td>\n",
       "    </tr>\n",
       "    <tr>\n",
       "      <th>199412</th>\n",
       "      <td>1400</td>\n",
       "      <td>1395.398495</td>\n",
       "    </tr>\n",
       "    <tr>\n",
       "      <th>1354</th>\n",
       "      <td>1845</td>\n",
       "      <td>1802.649634</td>\n",
       "    </tr>\n",
       "    <tr>\n",
       "      <th>354870</th>\n",
       "      <td>1000</td>\n",
       "      <td>1090.394708</td>\n",
       "    </tr>\n",
       "    <tr>\n",
       "      <th>237088</th>\n",
       "      <td>525</td>\n",
       "      <td>963.171210</td>\n",
       "    </tr>\n",
       "    <tr>\n",
       "      <th>96095</th>\n",
       "      <td>795</td>\n",
       "      <td>989.361640</td>\n",
       "    </tr>\n",
       "  </tbody>\n",
       "</table>\n",
       "<p>76149 rows × 2 columns</p>\n",
       "</div>"
      ],
      "text/plain": [
       "        True Values  Predicted Values\n",
       "263535         1100        971.869413\n",
       "265585          899       1070.503425\n",
       "198423         1331       1506.540847\n",
       "144076         1875       1532.056863\n",
       "366990          710       1026.783324\n",
       "...             ...               ...\n",
       "199412         1400       1395.398495\n",
       "1354           1845       1802.649634\n",
       "354870         1000       1090.394708\n",
       "237088          525        963.171210\n",
       "96095           795        989.361640\n",
       "\n",
       "[76149 rows x 2 columns]"
      ]
     },
     "execution_count": 59,
     "metadata": {},
     "output_type": "execute_result"
    }
   ],
   "source": [
    "pred_graph_lr=pd.DataFrame({\"True Values\":y_test, \"Predicted Values\":y_pred})\n",
    "pred_graph_lr"
   ]
  },
  {
   "cell_type": "code",
   "execution_count": 51,
   "metadata": {},
   "outputs": [
    {
     "name": "stdout",
     "output_type": "stream",
     "text": [
      "[ 970.21762075 1076.86829469 1504.77174562 1539.25103364 1024.16705513\n",
      " 1096.29332405 1051.79027112 1194.66705413 1094.88102879 1409.24937519]\n",
      "263535    1100\n",
      "265585     899\n",
      "198423    1331\n",
      "144076    1875\n",
      "366990     710\n",
      "284085     759\n",
      "40507      910\n",
      "51262     1175\n",
      "62171     1208\n",
      "218520    1660\n",
      "Name: price, dtype: int64\n"
     ]
    }
   ],
   "source": []
  },
  {
   "cell_type": "code",
   "execution_count": null,
   "metadata": {},
   "outputs": [],
   "source": []
  }
 ],
 "metadata": {
  "interpreter": {
   "hash": "85f7d94ae525a214d58417044f3649651bfbb6d310f4aa0d18f70861e8e77d84"
  },
  "kernelspec": {
   "display_name": "Python 3.10.1 64-bit ('.venv': venv)",
   "language": "python",
   "name": "python3"
  },
  "language_info": {
   "codemirror_mode": {
    "name": "ipython",
    "version": 3
   },
   "file_extension": ".py",
   "mimetype": "text/x-python",
   "name": "python",
   "nbconvert_exporter": "python",
   "pygments_lexer": "ipython3",
   "version": "3.8.8"
  },
  "orig_nbformat": 4
 },
 "nbformat": 4,
 "nbformat_minor": 2
}
